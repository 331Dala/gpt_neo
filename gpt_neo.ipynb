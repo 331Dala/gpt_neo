{
 "cells": [
  {
   "cell_type": "markdown",
   "id": "466c4a55-7f37-496d-a909-bf6982d12a5d",
   "metadata": {},
   "source": [
    "1.Install and import Depencies"
   ]
  },
  {
   "cell_type": "code",
   "execution_count": 5,
   "id": "5796e668-0dc5-47ff-96dd-07cb9838951e",
   "metadata": {},
   "outputs": [],
   "source": [
    "# !pip install torch"
   ]
  },
  {
   "cell_type": "code",
   "execution_count": 7,
   "id": "8526c699-62f6-49a1-a85c-bc5fad4ab8cc",
   "metadata": {},
   "outputs": [],
   "source": [
    "# !pip install transformers"
   ]
  },
  {
   "cell_type": "code",
   "execution_count": 10,
   "id": "fd63a4f5-f9f0-48cb-97f7-c9f107de58a5",
   "metadata": {},
   "outputs": [],
   "source": [
    "# from transformers import pipline"
   ]
  },
  {
   "cell_type": "markdown",
   "id": "9d8258b8-e56d-4bd7-9f74-5ab990afb1e2",
   "metadata": {},
   "source": [
    "2.Setup Generator"
   ]
  },
  {
   "cell_type": "code",
   "execution_count": 13,
   "id": "bc9358c6-6c19-4e54-b86f-13357f4393c1",
   "metadata": {},
   "outputs": [],
   "source": [
    "# generator = pipline('text-generation', model='EleutherAI/gpt-neo-2.7B')"
   ]
  },
  {
   "cell_type": "markdown",
   "id": "2b168ffc-ea5e-432c-812f-a751d4d01d05",
   "metadata": {},
   "source": [
    "3.Generate Text using Prompt"
   ]
  },
  {
   "cell_type": "code",
   "execution_count": 16,
   "id": "437d2b04-861f-453c-b21b-b686959556ca",
   "metadata": {},
   "outputs": [],
   "source": [
    "prompt = \"What is the meaning of life?\""
   ]
  },
  {
   "cell_type": "code",
   "execution_count": 21,
   "id": "39b3de7f-ebff-4986-a898-c0e7e0ea3682",
   "metadata": {},
   "outputs": [
    {
     "ename": "NameError",
     "evalue": "name 'generator' is not defined",
     "output_type": "error",
     "traceback": [
      "\u001b[1;31m---------------------------------------------------------------------------\u001b[0m",
      "\u001b[1;31mNameError\u001b[0m                                 Traceback (most recent call last)",
      "Cell \u001b[1;32mIn[21], line 1\u001b[0m\n\u001b[1;32m----> 1\u001b[0m res \u001b[38;5;241m=\u001b[39m generator(prompt, max_length\u001b[38;5;241m=\u001b[39m\u001b[38;5;241m50\u001b[39m, do_sample\u001b[38;5;241m=\u001b[39m\u001b[38;5;28;01mTrue\u001b[39;00m, temperature\u001b[38;5;241m=\u001b[39m\u001b[38;5;241m0.9\u001b[39m)\n",
      "\u001b[1;31mNameError\u001b[0m: name 'generator' is not defined"
     ]
    }
   ],
   "source": [
    "res = generator(prompt, max_length=50, do_sample=True, temperature=0.9)"
   ]
  },
  {
   "cell_type": "markdown",
   "id": "126b480e-8647-40a5-aa1b-7deadead37f0",
   "metadata": {},
   "source": [
    "4.Output Text"
   ]
  },
  {
   "cell_type": "code",
   "execution_count": 19,
   "id": "26d5aca8-1116-44c5-a292-e67821f20804",
   "metadata": {},
   "outputs": [
    {
     "ename": "NameError",
     "evalue": "name 'res' is not defined",
     "output_type": "error",
     "traceback": [
      "\u001b[1;31m---------------------------------------------------------------------------\u001b[0m",
      "\u001b[1;31mNameError\u001b[0m                                 Traceback (most recent call last)",
      "Cell \u001b[1;32mIn[19], line 1\u001b[0m\n\u001b[1;32m----> 1\u001b[0m res\n",
      "\u001b[1;31mNameError\u001b[0m: name 'res' is not defined"
     ]
    }
   ],
   "source": [
    "res"
   ]
  },
  {
   "cell_type": "code",
   "execution_count": 23,
   "id": "f7156cb3-5a97-4161-9952-8a24bce75889",
   "metadata": {},
   "outputs": [
    {
     "ename": "NameError",
     "evalue": "name 'res' is not defined",
     "output_type": "error",
     "traceback": [
      "\u001b[1;31m---------------------------------------------------------------------------\u001b[0m",
      "\u001b[1;31mNameError\u001b[0m                                 Traceback (most recent call last)",
      "Cell \u001b[1;32mIn[23], line 1\u001b[0m\n\u001b[1;32m----> 1\u001b[0m \u001b[38;5;28mprint\u001b[39m(res[\u001b[38;5;241m0\u001b[39m][\u001b[38;5;124m'\u001b[39m\u001b[38;5;124mgenerated_text\u001b[39m\u001b[38;5;124m'\u001b[39m])\n",
      "\u001b[1;31mNameError\u001b[0m: name 'res' is not defined"
     ]
    }
   ],
   "source": [
    "print(res[0]['generated_text'])"
   ]
  },
  {
   "cell_type": "code",
   "execution_count": null,
   "id": "2a6ef9c2-71e8-43f6-b2a1-44c508c52c85",
   "metadata": {},
   "outputs": [],
   "source": [
    "with open('gpttext.txt', 'w') as f:\n",
    "    f.writelines(res[0]['generate_text'])"
   ]
  },
  {
   "cell_type": "code",
   "execution_count": null,
   "id": "96e78e20-42eb-47aa-8767-5a881d750f91",
   "metadata": {},
   "outputs": [],
   "source": []
  }
 ],
 "metadata": {
  "kernelspec": {
   "display_name": "Python [conda env:base] *",
   "language": "python",
   "name": "conda-base-py"
  },
  "language_info": {
   "codemirror_mode": {
    "name": "ipython",
    "version": 3
   },
   "file_extension": ".py",
   "mimetype": "text/x-python",
   "name": "python",
   "nbconvert_exporter": "python",
   "pygments_lexer": "ipython3",
   "version": "3.12.7"
  }
 },
 "nbformat": 4,
 "nbformat_minor": 5
}
